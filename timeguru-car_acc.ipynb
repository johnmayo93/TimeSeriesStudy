{
  "nbformat": 4,
  "nbformat_minor": 0,
  "metadata": {
    "colab": {
      "provenance": [],
      "authorship_tag": "ABX9TyNXwNjkWy0uNnA8B+OD2saS",
      "include_colab_link": true
    },
    "kernelspec": {
      "name": "python3",
      "display_name": "Python 3"
    },
    "language_info": {
      "name": "python"
    }
  },
  "cells": [
    {
      "cell_type": "markdown",
      "metadata": {
        "id": "view-in-github",
        "colab_type": "text"
      },
      "source": [
        "<a href=\"https://colab.research.google.com/github/johnmayo93/johnmayo93.github.io/blob/main/timeguru-car_acc.ipynb\" target=\"_parent\"><img src=\"https://colab.research.google.com/assets/colab-badge.svg\" alt=\"Open In Colab\"/></a>"
      ]
    },
    {
      "cell_type": "code",
      "source": [
        "## 대구 교통사고 피해 예측"
      ],
      "metadata": {
        "id": "fbz4wBF_PWHs"
      },
      "execution_count": null,
      "outputs": []
    },
    {
      "cell_type": "code",
      "execution_count": null,
      "metadata": {
        "id": "Mi7-hug1O4Vy"
      },
      "outputs": [],
      "source": [
        "import os\n",
        "import pandas as pd\n",
        "import numpy as np\n",
        "import matplotlib.pyplot as plt"
      ]
    },
    {
      "cell_type": "code",
      "source": [
        "os.getcwd()"
      ],
      "metadata": {
        "colab": {
          "base_uri": "https://localhost:8080/",
          "height": 35
        },
        "id": "58dUZ1YDPjYm",
        "outputId": "9b052bde-30cf-42f6-ffd9-50706f88fb2d"
      },
      "execution_count": null,
      "outputs": [
        {
          "output_type": "execute_result",
          "data": {
            "text/plain": [
              "'/content'"
            ],
            "application/vnd.google.colaboratory.intrinsic+json": {
              "type": "string"
            }
          },
          "metadata": {},
          "execution_count": 3
        }
      ]
    },
    {
      "cell_type": "code",
      "source": [
        "os.listdir('/content')"
      ],
      "metadata": {
        "id": "5oumb-rvPnnl",
        "outputId": "c4607615-79f8-4444-af1a-c2523f18fea5",
        "colab": {
          "base_uri": "https://localhost:8080/"
        }
      },
      "execution_count": null,
      "outputs": [
        {
          "output_type": "execute_result",
          "data": {
            "text/plain": [
              "['.config', 'sample_data']"
            ]
          },
          "metadata": {},
          "execution_count": 5
        }
      ]
    },
    {
      "cell_type": "code",
      "source": [
        "Dataset Info.\n",
        "\n",
        "train.csv [파일]\n",
        "ID : 대구에서 발생한 교통사고의 고유 ID\n",
        "2019년부터 2021년까지의 교통사고 데이터로 구성\n",
        "해당 사고가 발생한 당시의 시공간 정보와 사고 관련 정보 포함\n",
        "ECLO : 인명피해 심각도\n",
        "\n",
        "\n",
        "test.csv [파일]\n",
        "ID : 대구에서 발생한 교통사고의 고유 ID\n",
        "2022년도의 교통사고 데이터로 구성\n",
        "추론 시점에서 획득할 수 있는 정보로 구성\n",
        "\n",
        "\n",
        "sample_submission.csv [파일] - 제출 양식\n",
        "ID : 추론 샘플의 고유 ID\n",
        "ECLO : 예측한 인명피해 심각도\n",
        "\n",
        "\n",
        "대구 빅데이터 마트 데이터 [폴더]\n",
        "대구 빅데이터활용센터에서 구축한 빅데이터 마트 데이터 중 제공 가능한 일부 데이터셋\n",
        "상세한 명세는 폴더 내부의 빅데이터 마트 데이터 설명서.hwp 참고\n",
        "전체 빅데이터 마트 데이터셋을 활용하기 위해서는 대구 빅데이터활용센터를 직접 방문하여 사내망 사용\n",
        "대회 종료 이후 다운로드 불가\n",
        "\n",
        "\n",
        "countrywide_accident.csv [파일]\n",
        "대구를 제외한 전국에서 발생한 교통사고 데이터\n",
        "2019년부터 2021년까지의 교통사고 데이터로 구성\n",
        "train.csv와 양식 동일\n",
        "\n",
        "\n",
        "대구 보안등 정보.csv [파일]\n",
        "대구에 존재하는 보안등 관련 정보\n",
        "\n",
        "\n",
        "대구 어린이 보호 구역 정보.csv [파일]\n",
        "대구에 존재하는 어린이 보호 구역 관련 정보\n",
        "\n",
        "\n",
        "대구 주차장 정보.csv [파일]\n",
        "대구에 존재하는 주차장 관련 정보\n",
        "\n",
        "\n",
        "대구 CCTV 정보.csv [파일]\n",
        "대구에 존재하는 CCTV 관련 정보\n",
        "도로노선방향\n",
        "01 : 상행\n",
        "02 : 하행\n",
        "03 : 양방향\n",
        "단속구분\n",
        "01 : 속도\n",
        "02 : 신호\n",
        "03 : 통행위반\n",
        "04 : 불법주정차\n",
        "99 : 기타\n",
        "단속구간위치구분\n",
        "01 : 시점\n",
        "02 : 종점\n",
        "보호구역구분\n",
        "01 : 노인보호구역\n",
        "02 : 어린이보호구역\n",
        "99 : 기타\n"
      ],
      "metadata": {
        "id": "MsbPJsprPRU7"
      },
      "execution_count": null,
      "outputs": []
    }
  ]
}